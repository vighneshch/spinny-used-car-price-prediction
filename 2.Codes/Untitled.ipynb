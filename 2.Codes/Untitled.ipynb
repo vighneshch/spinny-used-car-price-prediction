{
 "cells": [
  {
   "cell_type": "code",
   "execution_count": 1,
   "id": "9aa0f2c9-7306-43c0-af6f-2e6665619244",
   "metadata": {},
   "outputs": [],
   "source": [
    "# Loading the libraries\n",
    "import os\n",
    "import numpy as np\n",
    "import pandas as pd\n",
    "import seaborn as sns\n",
    "import matplotlib.pyplot as plt\n",
    "\n",
    "from sklearn.preprocessing import MinMaxScaler,StandardScaler\n",
    "from sklearn.model_selection import GridSearchCV,train_test_split\n",
    "from sklearn.neighbors import KNeighborsRegressor\n",
    "from sklearn.linear_model import LinearRegression\n",
    "from sklearn.tree import DecisionTreeRegressor"
   ]
  },
  {
   "cell_type": "code",
   "execution_count": 5,
   "id": "ecaacd9a-ed49-4057-a41b-27b5b74fd52e",
   "metadata": {},
   "outputs": [
    {
     "data": {
      "text/plain": [
       "['raw_data_ahmedabad.csv',\n",
       " 'raw_data_bangalore.csv',\n",
       " 'raw_data_chandigarh.csv',\n",
       " 'raw_data_chennai.csv',\n",
       " 'raw_data_coimbatore.csv',\n",
       " 'raw_data_delhi-ncr.csv',\n",
       " 'raw_data_delhi.csv',\n",
       " 'raw_data_faridabad.csv',\n",
       " 'raw_data_ghaziabad.csv',\n",
       " 'raw_data_gurgaon.csv',\n",
       " 'raw_data_hyderabad.csv',\n",
       " 'raw_data_indore.csv',\n",
       " 'raw_data_jaipur.csv',\n",
       " 'raw_data_kochi.csv',\n",
       " 'raw_data_kolkata.csv',\n",
       " 'raw_data_lucknow.csv',\n",
       " 'raw_data_mumbai.csv',\n",
       " 'raw_data_noida.csv',\n",
       " 'raw_data_pune.csv']"
      ]
     },
     "execution_count": 5,
     "metadata": {},
     "output_type": "execute_result"
    }
   ],
   "source": [
    "# Loading each file into a dataframe and concatenating\n",
    "folder_path = \"D:\\\\DataScience\\\\1.Personal Projects\\\\Projects\\\\1.Machine Learning Projects\\\\1.Regression\\\\1.Spinny Car\\\\1.Scraped Data\"\n",
    "for file_name in os.listdir(folder_path):\n",
    "    if file_name.endswith('.csv'):\n",
    "        file_path = os."
   ]
  },
  {
   "cell_type": "code",
   "execution_count": null,
   "id": "72dffafb-56b9-41d7-bd22-d966bf5f316d",
   "metadata": {},
   "outputs": [],
   "source": []
  }
 ],
 "metadata": {
  "kernelspec": {
   "display_name": "Python 3 (ipykernel)",
   "language": "python",
   "name": "python3"
  },
  "language_info": {
   "codemirror_mode": {
    "name": "ipython",
    "version": 3
   },
   "file_extension": ".py",
   "mimetype": "text/x-python",
   "name": "python",
   "nbconvert_exporter": "python",
   "pygments_lexer": "ipython3",
   "version": "3.11.5"
  }
 },
 "nbformat": 4,
 "nbformat_minor": 5
}
